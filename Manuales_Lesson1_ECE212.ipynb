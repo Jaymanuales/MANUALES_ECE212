{
 "cells": [
  {
   "cell_type": "markdown",
   "metadata": {},
   "source": [
    "# Module 1 Scientific Computing Basics\n",
    "## Lesson 1: The Way of the Program"
   ]
  },
  {
   "cell_type": "markdown",
   "metadata": {},
   "source": [
    "### Introduction\n",
    "\n",
    "The goal of this coursepack is to teach you to understand and create computer programs in Python. At the beginning of each chapter, we will outline for you the learning goals and objectives that should be accomplished once you have gone through the chapter. Writing computer programs requires not only mechanistic thinking but creative problem solving. Problem solving means the ability to formulate problems, think creatively about solutions, and express a solution clearly and accurately. As it turns out, the process of learning to program is an excellent opportunity to practice problem solving skills."
   ]
  },
  {
   "cell_type": "markdown",
   "metadata": {},
   "source": [
    "### Activity\n",
    "\n",
    "1. *Why do you think understanding computer programs is relevant in our time today especially in the new normal?*\n",
    "\n",
    "    * Computer programs is everywhere and fundamental to the understanding of a hyper-connected world. It is the literacy of today and it helps us in this new normal to practice skills such as problem solving, team work and analytical thinking.\n",
    "\n",
    "2. *If you were able to learn computer program what program will you code? Why?*\n",
    "\n",
    "    * If I were able to learn computer program, I will program something that would help the or solve modern problems or a program that will make our life a whole lot easier.\n",
    "\n",
    "3. *What would be your primary motivation in learning programming?\n",
    "\n",
    "    * Steve Jobs an American business magnate, industrial designer, investor, and media proprietor said that \"everybody should learn how to program a computer, should learn a computer language, because it teaches us how to think.\" It is an enormously flexible tool that you can use to do amazing things and it is a part of one of our core subjects.\n",
    "    "
   ]
  },
  {
   "cell_type": "markdown",
   "metadata": {},
   "source": [
    "## The Python Programming Language\n",
    "\n",
    "Python is an example of a highlevel language. Highlevel languages you might have heard of are C++, PHP, and Java. Even the advantages of it are enormous like it is much easier to program and portable, it has its own disadvantages like extra processing are takes some time because this processes are important before to run the program."
   ]
  },
  {
   "cell_type": "markdown",
   "metadata": {},
   "source": [
    "### More About Programs\n",
    "\n",
    "A program is a sequence of instructions that specifies how to perform a computation. The computation might be something as complex as rendering an html page in a web browser or encoding a video and streaming it across the network. It can also be a symbolic computation, such as searching for and replacing text in a document or compiling a program.\n",
    "\n",
    "* **Input** - _Get data from the keyboard, a file, or some other device._\n",
    "* **Output** - _Display data on the screen or send data to a file or other device._\n",
    "* **Math and Logic** - _Perform basic mathematical operations like addition and multiplication and logical operations like and, or, and not._\n",
    "* **Conditional execution** - _Check for certain conditions and execute the appropriate sequence of statements._\n",
    "* **Repetition** - _Perform some action repeatedly, usually with some variation._\n",
    "\n"
   ]
  },
  {
   "cell_type": "markdown",
   "metadata": {},
   "source": [
    "### Review of Control Structures\n"
   ]
  },
  {
   "cell_type": "markdown",
   "metadata": {},
   "source": [
    "For Loop:"
   ]
  },
  {
   "cell_type": "code",
   "execution_count": 1,
   "metadata": {},
   "outputs": [
    {
     "name": "stdout",
     "output_type": "stream",
     "text": [
      "J\n",
      "a\n",
      "y\n",
      "s\n",
      "o\n",
      "n\n",
      " \n",
      "M\n",
      "a\n",
      "n\n",
      "u\n",
      "a\n",
      "l\n",
      "e\n",
      "s\n"
     ]
    }
   ],
   "source": [
    "for character in \"Jayson Manuales\":\n",
    " print (character)"
   ]
  },
  {
   "cell_type": "markdown",
   "metadata": {},
   "source": [
    "While Loop:"
   ]
  },
  {
   "cell_type": "code",
   "execution_count": 1,
   "metadata": {},
   "outputs": [
    {
     "name": "stdout",
     "output_type": "stream",
     "text": [
      "Please write down an item to add to your grocery list. When you are done writing the list simply type: doneMeat\n",
      "Meat\n",
      "Please write down an item to add to your grocery list. When you are done writing the list simply type: doneBread\n",
      "Bread\n",
      "Please write down an item to add to your grocery list. When you are done writing the list simply type: doneSauces\n",
      "Sauces\n",
      "Please write down an item to add to your grocery list. When you are done writing the list simply type: doneBreakfast Foods\n",
      "Breakfast Foods\n",
      "Please write down an item to add to your grocery list. When you are done writing the list simply type: doneFrozen Foods\n",
      "Frozen Foods\n",
      "Please write down an item to add to your grocery list. When you are done writing the list simply type: doneEggs\n",
      "Eggs\n",
      "Please write down an item to add to your grocery list. When you are done writing the list simply type: doneCoffee\n",
      "Coffee\n",
      "Please write down an item to add to your grocery list. When you are done writing the list simply type: donedone\n",
      "done\n"
     ]
    }
   ],
   "source": [
    "grocery_item = \"\"\n",
    "while grocery_item != \"done\":\n",
    " grocery_item = input(\"Please write down an item to add to your grocery list. When you are done writing the list simply type: done\")\n",
    " print(grocery_item)"
   ]
  },
  {
   "cell_type": "markdown",
   "metadata": {},
   "source": [
    "Conditionals:"
   ]
  },
  {
   "cell_type": "code",
   "execution_count": 2,
   "metadata": {},
   "outputs": [
    {
     "name": "stdout",
     "output_type": "stream",
     "text": [
      "Please write down an item to add to your grocery list. When you are done writing the list then simply type: doneEggs\n",
      "adding the item to the list\n",
      "Please write down an item to add to your grocery list. When you are done writing the list then simply type: doneRice\n",
      "adding the item to the list\n",
      "Please write down an item to add to your grocery list. When you are done writing the list then simply type: doneMeat\n",
      "adding the item to the list\n",
      "Please write down an item to add to your grocery list. When you are done writing the list then simply type: doneCereals\n",
      "adding the item to the list\n",
      "Please write down an item to add to your grocery list. When you are done writing the list then simply type: donedone\n",
      "Here is our grocery list:\n",
      "['Eggs', 'Rice', 'Meat', 'Cereals']\n"
     ]
    }
   ],
   "source": [
    "grocery_item = \"\"\n",
    "grocery_list = []\n",
    "while grocery_item != \"done\":\n",
    "    grocery_item = input(\"Please write down an item to add to your grocery list. When you are done writing the list then simply type: done\")\n",
    "    if grocery_item == 'done':\n",
    "        continue\n",
    "    else:\n",
    "        print(\"adding the item to the list\")\n",
    "        grocery_list.append(grocery_item)\n",
    "print(\"Here is our grocery list:\")\n",
    "print(grocery_list)"
   ]
  },
  {
   "cell_type": "markdown",
   "metadata": {},
   "source": [
    "### Formal and Natural Languages:\n",
    "\n",
    "* **Natural languages** - _languages that people speak, such as English, Spanish, Korean, and Mandarin Chinese. They were not designed by people, they evolved naturally._\n",
    "\n",
    "* **Formal languages** - _languages that are designed by people for specific applications. Chemists use a formal language to represent the chemical structure of molecules and most importantly programming languages are formal languages that have been designed to express computations._"
   ]
  },
  {
   "cell_type": "markdown",
   "metadata": {},
   "source": [
    "These languages have many features in common — tokens, structure, syntax, and semantics — there are many differences:\n",
    " * **ambiguity** - Natural languages are full of ambiguity, which people deal with by using contextual clues and other information. Formal languages are designed to be nearly or completely unambiguous, which means that any statement has exactly one meaning, regardless of context.\n",
    " \n",
    " * **redundancy** - In order to make up for ambiguity and reduce misunderstandings, natural languages employ lots of redundancy. As a result, they are often verbose. Formal languages are less redundant and more concise.\n",
    " \n",
    " * **literalness** - Formal languages mean exactly what they say. On the other hand, natural languages are full of idiom and metaphor. If someone says, “The other shoe fell”, there is probably no shoe and nothing falling.\n",
    " \n",
    " * **poetry** - Words are used for their sounds as well as for their meaning, and the whole poem together creates an effect or emotional response. Ambiguity is not only common but often deliberate.\n",
    " \n",
    " * **prose** - The literal meaning of words is more important, and the structure contributes more meaning. Prose is more amenable to analysis than poetry but still often ambiguous.\n",
    " \n",
    " * **program** - The meaning of a computer program is unambiguous and literal, and can be understood entirely by analysis of the tokens and structure.\n"
   ]
  },
  {
   "cell_type": "markdown",
   "metadata": {},
   "source": [
    "### A Typical First Program:\n",
    "* Traditionally, the first program written in a new language is called _Hello, World!_ because all it does is display the words, Hello, World! In Python, the source code looks like this."
   ]
  },
  {
   "cell_type": "code",
   "execution_count": 3,
   "metadata": {},
   "outputs": [
    {
     "name": "stdout",
     "output_type": "stream",
     "text": [
      "Hello, World!\n"
     ]
    }
   ],
   "source": [
    "print(\"Hello, World!\")"
   ]
  },
  {
   "cell_type": "markdown",
   "metadata": {},
   "source": [
    "### Comments:\n",
    "* A comment in a computer program is text that is intended only for the human reader. It is completely ignored by the interpreter. Here is a new version of _Hello, World!_"
   ]
  },
  {
   "cell_type": "code",
   "execution_count": 4,
   "metadata": {},
   "outputs": [
    {
     "name": "stdout",
     "output_type": "stream",
     "text": [
      "Hello, World!\n"
     ]
    }
   ],
   "source": [
    "#---------------------------------------------------\n",
    "# This demo program shows off how elegant Python is!\n",
    "# Written by Joe Soap, December 2010.\n",
    "# Anyone may freely copy or modify this program.\n",
    "#---------------------------------------------------\n",
    "print(\"Hello, World!\") # Isn't this easy!"
   ]
  },
  {
   "cell_type": "markdown",
   "metadata": {},
   "source": [
    "### **Application:**"
   ]
  },
  {
   "cell_type": "markdown",
   "metadata": {},
   "source": [
    "1. *Why do you think Python is the most applicable programming language for scientific computing?*\n",
    "\n",
    "    * Python is more forgiving as you can take shortcuts such as reusing an old variable. Python is much easier to understand than C++ that I experienced before.\n",
    "    \n",
    "    \n",
    "2. *If\tPython\tcan\tbuild\tanything,\twhere\tdo\tyou\tthink\tPython\tis\tnot\tapplicable\tfor?*\n",
    "\n",
    "    * I think it is not applicable for developing production of software used in companies for business and develop information systems of a greater scale."
   ]
  },
  {
   "cell_type": "markdown",
   "metadata": {},
   "source": [
    "### Exercise 1: Mailing Address (Solved, 9 Lines)\n",
    "Create a program that displays your name and complete mailing address. The address should be printed in the format that is normally used in the area where you live. Your program does not need to read any input from the user."
   ]
  },
  {
   "cell_type": "code",
   "execution_count": 5,
   "metadata": {},
   "outputs": [
    {
     "name": "stdout",
     "output_type": "stream",
     "text": [
      "Complete Name: Jayson P. Manuales\n",
      "Contact Number: 09279458882\n",
      "Complete Address: Phase 3, Blk. 1, Lot 5, Brgy Cagangohan, Panabo City, Davao del Norte, Philippines\n",
      "Course: Bachelor Science in Electronics Engineering\n",
      "School: University of Southeastern Philippines\n"
     ]
    }
   ],
   "source": [
    "print(\"Complete Name: Jayson P. Manuales\")\n",
    "print(\"Contact Number: 09279458882\")\n",
    "print(\"Complete Address: Phase 3, Blk. 1, Lot 5, Brgy Cagangohan, Panabo City, Davao del Norte, Philippines\")\n",
    "print(\"Course: Bachelor Science in Electronics Engineering\")\n",
    "print(\"School: University of Southeastern Philippines\")"
   ]
  },
  {
   "cell_type": "markdown",
   "metadata": {},
   "source": [
    "### Exercise 2: Area of a Room (Solved, 13 Lines)\n",
    "Write a program that asks the user to enter the width and length of a room. Once these values have been read, your program should compute and display the area of the room. The length and the width will be entered as floating-point numbers. Include units in your prompt and output message; either feet or meters, depending on which unit you are more comfortable working with."
   ]
  },
  {
   "cell_type": "code",
   "execution_count": 22,
   "metadata": {},
   "outputs": [
    {
     "name": "stdout",
     "output_type": "stream",
     "text": [
      "Getting the Area of the Room\n",
      "Enter the length of the room in feet: 15\n",
      "Enter the width of the room in feet: 10\n",
      "The area of the room is 150.0 ft².\n"
     ]
    }
   ],
   "source": [
    "print(\"Getting the Area of the Room\")\n",
    "length = float(input(\"Enter the length of the room in feet: \"))\n",
    "width = float(input(\"Enter the width of the room in feet: \"))\n",
    "area = length * width\n",
    "print(\"The area of the room is\",area,\"ft².\")"
   ]
  },
  {
   "cell_type": "markdown",
   "metadata": {},
   "source": [
    "### Exercise 3: Arithmetic (solve, 22 lines)\n",
    "Create a program that reads two integers, a and b, from the user. Your program should compute and display:\n",
    "\n",
    "    •The sum of a and b  \n",
    "    •The difference when b is subtracted from a  \n",
    "    •The product of a and b  \n",
    "    •The quotient when a is divided by b  \n",
    "    •The remainder when a is divided by b  \n",
    "    •The result of log10 a  \n",
    "    •The result of log ab  "
   ]
  },
  {
   "cell_type": "code",
   "execution_count": 16,
   "metadata": {},
   "outputs": [
    {
     "name": "stdout",
     "output_type": "stream",
     "text": [
      "The sum of a and b\n",
      "Enter two integers that you want to add\n",
      "Enter any integer: 500\n",
      "Enter any integer: 600\n",
      "The sum of the two integers is 1100.0\n"
     ]
    }
   ],
   "source": [
    "print(\"The sum of a and b\")\n",
    "print(\"Enter two integers that you want to add\")\n",
    "a = float(input(\"Enter any integer: \"))\n",
    "b = float(input(\"Enter any integer: \"))\n",
    "sum = a + b\n",
    "print(\"The sum of the two integers is\", sum)"
   ]
  },
  {
   "cell_type": "code",
   "execution_count": 15,
   "metadata": {},
   "outputs": [
    {
     "name": "stdout",
     "output_type": "stream",
     "text": [
      "The difference when b is subtracted from a\n",
      "Enter the value of b and a that you want to subtract\n",
      "Enter any integer value for b: 600\n",
      "Enter any integer value for a: 500\n",
      "The difference of b - a is 100.0\n"
     ]
    }
   ],
   "source": [
    "print(\"The difference when b is subtracted from a\")\n",
    "print(\"Enter the value of b and a that you want to subtract\")\n",
    "b = float(input(\"Enter any integer value for b: \"))\n",
    "a = float(input(\"Enter any integer value for a: \"))\n",
    "difference = b - a\n",
    "print(\"The difference of b - a is\", difference)"
   ]
  },
  {
   "cell_type": "code",
   "execution_count": 14,
   "metadata": {},
   "outputs": [
    {
     "name": "stdout",
     "output_type": "stream",
     "text": [
      "The product of a and b\n",
      "Enter two integers that you want to multiply\n",
      "Enter any integer: 7\n",
      "Enter any integer: 11\n",
      "The product of the two integers is 77.0\n"
     ]
    }
   ],
   "source": [
    "print(\"The product of a and b\")\n",
    "print(\"Enter two integers that you want to multiply\")\n",
    "a = float(input(\"Enter any integer: \"))\n",
    "b = float(input(\"Enter any integer: \"))\n",
    "product = a * b\n",
    "print(\"The product of the two integers is\", product)"
   ]
  },
  {
   "cell_type": "code",
   "execution_count": 13,
   "metadata": {},
   "outputs": [
    {
     "name": "stdout",
     "output_type": "stream",
     "text": [
      "The quotient when a is divided by b\n",
      "Enter the value of a and b that you want to divide\n",
      "Enter any integer value for a: 77\n",
      "Enter any integer value for b: 11\n",
      "The quotient of a/b is 7.0\n"
     ]
    }
   ],
   "source": [
    "print(\"The quotient when a is divided by b\")\n",
    "print(\"Enter the value of a and b that you want to divide\")\n",
    "a = float(input(\"Enter any integer value for a: \"))\n",
    "b = float(input(\"Enter any integer value for b: \"))\n",
    "quotient = a/b\n",
    "print(\"The quotient of a/b is\", quotient)"
   ]
  },
  {
   "cell_type": "code",
   "execution_count": 17,
   "metadata": {},
   "outputs": [
    {
     "name": "stdout",
     "output_type": "stream",
     "text": [
      "The remainder when a is divided by b\n",
      "Enter the Divident and Divisor and the remainder will be shown to you\n",
      "Enter your Dividend: 46\n",
      "Enter your Divisor: 39\n",
      "The remainder of the quotient is 7.0\n"
     ]
    }
   ],
   "source": [
    "print(\"The remainder when a is divided by b\")\n",
    "print(\"Enter the Divident and Divisor and the remainder will be shown to you\")\n",
    "a = float(input(\"Enter your Dividend: \"))\n",
    "b = float(input(\"Enter your Divisor: \"))\n",
    "remainder = a % b\n",
    "print(\"The remainder of the quotient is\", remainder)"
   ]
  },
  {
   "cell_type": "code",
   "execution_count": 18,
   "metadata": {},
   "outputs": [
    {
     "name": "stdout",
     "output_type": "stream",
     "text": [
      "The result of log10 a\n",
      "Enter any integer that you want to solve for its logarithm\n",
      "Enter any integer for a: 7\n",
      "math.log10(a) is 0.8450980400142568\n"
     ]
    }
   ],
   "source": [
    "print(\"The result of log10 a\")\n",
    "print(\"Enter any integer that you want to solve for its logarithm\")\n",
    "a = float(input(\"Enter any integer for a: \"))\n",
    "import math\n",
    "math.log10( a )\n",
    "print(\"math.log10(a) is\", math.log10(a))"
   ]
  },
  {
   "cell_type": "code",
   "execution_count": 19,
   "metadata": {},
   "outputs": [
    {
     "name": "stdout",
     "output_type": "stream",
     "text": [
      "The result of log ab\n",
      "Enter any integer for a and b\n",
      "integer a: 7\n",
      "integer b: 11\n",
      "math.log10(a*b) is 1.8864907251724818\n"
     ]
    }
   ],
   "source": [
    "print(\"The result of log ab\")\n",
    "print(\"Enter any integer for a and b\")\n",
    "a = float(input(\"integer a: \"))\n",
    "b = float(input(\"integer b: \"))\n",
    "import math\n",
    "math.log10(a*b)\n",
    "print(\"math.log10(a*b) is\", math.log10(a*b))"
   ]
  },
  {
   "cell_type": "markdown",
   "metadata": {},
   "source": [
    "### Exercise 4: Area and Volume (15 lines)\n",
    "Write a program that begins by reading a radius, r, from the user. The program will continue by computing and displaying the area of a circle with radius r and the volume of a sphere with radius r. Use the pi constant in the math module in your calculations."
   ]
  },
  {
   "cell_type": "code",
   "execution_count": 21,
   "metadata": {},
   "outputs": [
    {
     "name": "stdout",
     "output_type": "stream",
     "text": [
      "Enter any radius for r in meters: 7\n",
      "The area of a circle with radius r is 153.93804002589985 m²\n",
      "The volume of a sphere with a radius r is 1436.755040241732 m³\n"
     ]
    }
   ],
   "source": [
    "import math\n",
    "r = float(input(\"Enter any radius for r in meters: \"))\n",
    "area = math.pi * r * r \n",
    "volume = (4/3) * math.pi * r * r * r\n",
    "print(\"The area of a circle with radius r is\",area,\"m²\")\n",
    "print(\"The volume of a sphere with a radius r is\", volume,\"m³\")"
   ]
  },
  {
   "cell_type": "code",
   "execution_count": null,
   "metadata": {},
   "outputs": [],
   "source": []
  }
 ],
 "metadata": {
  "kernelspec": {
   "display_name": "Python 3",
   "language": "python",
   "name": "python3"
  },
  "language_info": {
   "codemirror_mode": {
    "name": "ipython",
    "version": 3
   },
   "file_extension": ".py",
   "mimetype": "text/x-python",
   "name": "python",
   "nbconvert_exporter": "python",
   "pygments_lexer": "ipython3",
   "version": "3.6.11"
  }
 },
 "nbformat": 4,
 "nbformat_minor": 2
}
